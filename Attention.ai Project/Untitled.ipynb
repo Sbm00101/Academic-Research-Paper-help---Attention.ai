{
 "cells": [
  {
   "cell_type": "code",
   "execution_count": 2,
   "id": "37708072",
   "metadata": {},
   "outputs": [
    {
     "name": "stdout",
     "output_type": "stream",
     "text": [
      "Requirement already satisfied: elasticsearch in c:\\users\\sruti baibhab mishra\\anaconda3\\lib\\site-packages (8.15.1)\n",
      "Requirement already satisfied: transformers in c:\\users\\sruti baibhab mishra\\anaconda3\\lib\\site-packages (4.46.2)\n",
      "Requirement already satisfied: torch in c:\\users\\sruti baibhab mishra\\anaconda3\\lib\\site-packages (2.4.1)\n",
      "Requirement already satisfied: requests in c:\\users\\sruti baibhab mishra\\anaconda3\\lib\\site-packages (2.32.3)\n",
      "Requirement already satisfied: elastic-transport<9,>=8.13 in c:\\users\\sruti baibhab mishra\\anaconda3\\lib\\site-packages (from elasticsearch) (8.15.1)\n",
      "Requirement already satisfied: huggingface-hub<1.0,>=0.23.2 in c:\\users\\sruti baibhab mishra\\anaconda3\\lib\\site-packages (from transformers) (0.25.1)\n",
      "Requirement already satisfied: numpy>=1.17 in c:\\users\\sruti baibhab mishra\\anaconda3\\lib\\site-packages (from transformers) (1.21.5)\n",
      "Requirement already satisfied: safetensors>=0.4.1 in c:\\users\\sruti baibhab mishra\\anaconda3\\lib\\site-packages (from transformers) (0.4.5)\n",
      "Requirement already satisfied: filelock in c:\\users\\sruti baibhab mishra\\anaconda3\\lib\\site-packages (from transformers) (3.6.0)\n",
      "Requirement already satisfied: pyyaml>=5.1 in c:\\users\\sruti baibhab mishra\\anaconda3\\lib\\site-packages (from transformers) (6.0)\n",
      "Requirement already satisfied: tqdm>=4.27 in c:\\users\\sruti baibhab mishra\\anaconda3\\lib\\site-packages (from transformers) (4.64.0)\n",
      "Requirement already satisfied: tokenizers<0.21,>=0.20 in c:\\users\\sruti baibhab mishra\\anaconda3\\lib\\site-packages (from transformers) (0.20.3)\n",
      "Requirement already satisfied: packaging>=20.0 in c:\\users\\sruti baibhab mishra\\anaconda3\\lib\\site-packages (from transformers) (24.1)\n",
      "Requirement already satisfied: regex!=2019.12.17 in c:\\users\\sruti baibhab mishra\\anaconda3\\lib\\site-packages (from transformers) (2022.3.15)\n",
      "Requirement already satisfied: typing-extensions>=4.8.0 in c:\\users\\sruti baibhab mishra\\anaconda3\\lib\\site-packages (from torch) (4.12.2)\n",
      "Requirement already satisfied: sympy in c:\\users\\sruti baibhab mishra\\anaconda3\\lib\\site-packages (from torch) (1.10.1)\n",
      "Requirement already satisfied: fsspec in c:\\users\\sruti baibhab mishra\\anaconda3\\lib\\site-packages (from torch) (2024.9.0)\n",
      "Requirement already satisfied: jinja2 in c:\\users\\sruti baibhab mishra\\anaconda3\\lib\\site-packages (from torch) (2.11.3)\n",
      "Requirement already satisfied: networkx in c:\\users\\sruti baibhab mishra\\anaconda3\\lib\\site-packages (from torch) (2.7.1)\n",
      "Requirement already satisfied: idna<4,>=2.5 in c:\\users\\sruti baibhab mishra\\anaconda3\\lib\\site-packages (from requests) (3.3)\n",
      "Requirement already satisfied: charset-normalizer<4,>=2 in c:\\users\\sruti baibhab mishra\\anaconda3\\lib\\site-packages (from requests) (2.0.4)\n",
      "Requirement already satisfied: urllib3<3,>=1.21.1 in c:\\users\\sruti baibhab mishra\\anaconda3\\lib\\site-packages (from requests) (2.2.2)\n",
      "Requirement already satisfied: certifi>=2017.4.17 in c:\\users\\sruti baibhab mishra\\anaconda3\\lib\\site-packages (from requests) (2024.7.4)\n",
      "Requirement already satisfied: colorama in c:\\users\\sruti baibhab mishra\\anaconda3\\lib\\site-packages (from tqdm>=4.27->transformers) (0.4.6)\n",
      "Requirement already satisfied: MarkupSafe>=0.23 in c:\\users\\sruti baibhab mishra\\anaconda3\\lib\\site-packages (from jinja2->torch) (2.0.1)\n",
      "Requirement already satisfied: mpmath>=0.19 in c:\\users\\sruti baibhab mishra\\anaconda3\\lib\\site-packages (from sympy->torch) (1.2.1)\n"
     ]
    }
   ],
   "source": [
    "# Install necessary libraries (run this if the libraries are not installed)\n",
    "!pip install elasticsearch transformers torch requests\n",
    "\n",
    "# Import libraries\n",
    "from elasticsearch import Elasticsearch\n",
    "from transformers import pipeline\n",
    "import requests\n",
    "import json\n",
    "import sys"
   ]
  },
  {
   "cell_type": "code",
   "execution_count": null,
   "id": "a1381e47",
   "metadata": {},
   "outputs": [],
   "source": []
  }
 ],
 "metadata": {
  "kernelspec": {
   "display_name": "Python 3 (ipykernel)",
   "language": "python",
   "name": "python3"
  },
  "language_info": {
   "codemirror_mode": {
    "name": "ipython",
    "version": 3
   },
   "file_extension": ".py",
   "mimetype": "text/x-python",
   "name": "python",
   "nbconvert_exporter": "python",
   "pygments_lexer": "ipython3",
   "version": "3.9.12"
  }
 },
 "nbformat": 4,
 "nbformat_minor": 5
}
